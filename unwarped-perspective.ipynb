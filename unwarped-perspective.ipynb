{
 "cells": [
  {
   "cell_type": "code",
   "execution_count": 5,
   "metadata": {},
   "outputs": [],
   "source": [
    "import cv2\n",
    "import numpy as np\n"
   ]
  },
  {
   "cell_type": "code",
   "execution_count": 6,
   "metadata": {},
   "outputs": [
    {
     "name": "stderr",
     "output_type": "stream",
     "text": [
      "XmbTextListToTextProperty result code -2\n",
      "XmbTextListToTextProperty result code -2\n",
      "XmbTextListToTextProperty result code -2\n",
      "XmbTextListToTextProperty result code -2\n",
      "XmbTextListToTextProperty result code -2\n",
      "XmbTextListToTextProperty result code -2\n"
     ]
    }
   ],
   "source": [
    "red_point = [154,36]\n",
    "green_point = [510,44]\n",
    "black_point = [9,335]\n",
    "blue_point = [494,390]\n",
    "\n",
    "\n",
    "img = cv2.imread('image.png')\n",
    "cv2.circle(img,(red_point[0],red_point[1]),10,(0,0,255),cv2.FILLED)\n",
    "cv2.circle(img,(green_point[0],green_point[1]),10,(0,255,0),cv2.FILLED)\n",
    "cv2.circle(img,(blue_point[0],blue_point[1]),10,(255,0,0),cv2.FILLED)\n",
    "cv2.circle(img,(black_point[0],black_point[1]),10,(255,255,255),cv2.FILLED)\n",
    "\n",
    "\n",
    "point_matrix = np.float32([red_point,green_point,black_point, blue_point])\n",
    "\n",
    "width, height = 510,510 \n",
    "converted_red_pixel_value = [0,0]\n",
    "converted_green_pixel_value = [width,0]\n",
    "converted_black_pixel_value = [0,height]\n",
    "converted_blue_pixel_value = [width,height]\n",
    " \n",
    "converted_points = np.float32([converted_red_pixel_value,converted_green_pixel_value,\n",
    "                               converted_black_pixel_value,converted_blue_pixel_value])\n",
    "\n",
    "perspective_transform = cv2.getPerspectiveTransform(point_matrix,converted_points)\n",
    "img_Output = cv2.warpPerspective(img,perspective_transform,(width,height))\n",
    " \n",
    "cv2.imshow(\"Original Image\", img)\n",
    "cv2.imshow(\"Output Image\", img_Output)\n",
    "\n",
    "cv2.imwrite('image-train.jpg',img_Output)\n",
    "\n",
    "cv2.waitKey(0)\n",
    "\n",
    "cv2.destroyAllWindows()"
   ]
  }
 ],
 "metadata": {
  "interpreter": {
   "hash": "59243f0156553fba1f931c48c04cc8a8e890ec0d7ce81bc105738f6887d332d2"
  },
  "kernelspec": {
   "display_name": "Python 3.9.12 ('opencv')",
   "language": "python",
   "name": "python3"
  },
  "language_info": {
   "codemirror_mode": {
    "name": "ipython",
    "version": 3
   },
   "file_extension": ".py",
   "mimetype": "text/x-python",
   "name": "python",
   "nbconvert_exporter": "python",
   "pygments_lexer": "ipython3",
   "version": "3.9.12"
  },
  "orig_nbformat": 4
 },
 "nbformat": 4,
 "nbformat_minor": 2
}
