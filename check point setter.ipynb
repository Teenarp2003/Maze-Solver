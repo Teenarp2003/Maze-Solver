{
 "cells": [
  {
   "cell_type": "code",
   "execution_count": 2,
   "metadata": {},
   "outputs": [
    {
     "name": "stderr",
     "output_type": "stream",
     "text": [
      "libGL error: MESA-LOADER: failed to open radeonsi: /home/teenarp2003/miniconda3/envs/opencv/lib/python3.9/site-packages/zmq/backend/cython/../../../../.././libstdc++.so.6: version `GLIBCXX_3.4.29' not found (required by /usr/lib/dri/radeonsi_dri.so) (search paths /usr/lib/dri, suffix _dri)\n",
      "libGL error: failed to load driver: radeonsi\n",
      "libGL error: MESA-LOADER: failed to open radeonsi: /home/teenarp2003/miniconda3/envs/opencv/lib/python3.9/site-packages/zmq/backend/cython/../../../../.././libstdc++.so.6: version `GLIBCXX_3.4.29' not found (required by /usr/lib/dri/radeonsi_dri.so) (search paths /usr/lib/dri, suffix _dri)\n",
      "libGL error: failed to load driver: radeonsi\n",
      "libGL error: MESA-LOADER: failed to open swrast: /home/teenarp2003/miniconda3/envs/opencv/lib/python3.9/site-packages/zmq/backend/cython/../../../../.././libstdc++.so.6: version `GLIBCXX_3.4.29' not found (required by /usr/lib/dri/swrast_dri.so) (search paths /usr/lib/dri, suffix _dri)\n",
      "libGL error: failed to load driver: swrast\n",
      "XmbTextListToTextProperty result code -2\n",
      "XmbTextListToTextProperty result code -2\n",
      "XmbTextListToTextProperty result code -2\n",
      "XmbTextListToTextProperty result code -2\n",
      "XmbTextListToTextProperty result code -2\n",
      "XmbTextListToTextProperty result code -2\n"
     ]
    },
    {
     "name": "stdout",
     "output_type": "stream",
     "text": [
      "BGR left top colour : [ 14 116  14]\n",
      "BGR right top colour : [ 14 116  14]\n",
      "BGR right down colour : [  2 119  16]\n",
      "BGR left down colour : [  7 114  22]\n"
     ]
    }
   ],
   "source": [
    "import cv2\n",
    "import numpy as np\n",
    "img = cv2.imread('birdgrid_without_Label.jpg')\n",
    "cv2.imshow('image',img)\n",
    "print(\"BGR left top colour :\",img[1][64])\n",
    "print(\"BGR right top colour :\",img[1][127])\n",
    "print(\"BGR right down colour :\",img[64][127])\n",
    "print(\"BGR left down colour :\",img[64][64]) \n",
    "\n",
    "# vertex points blue marking \n",
    "col = 1\n",
    "row = 1\n",
    "row_end =505\n",
    "for r in range (1,10):\n",
    "    for s in range(1,10):\n",
    "        img[row][col] = (255,0,0)\n",
    "        col=col+63\n",
    "    row =row+63\n",
    "    col = 1     \n",
    "\n",
    "# mid points blue marking \n",
    "col_mid = 32\n",
    "row_mid = 32\n",
    "for i in range (1,9):\n",
    "    for j in range (1,9):\n",
    "        img[row_mid][col_mid] = (255,0,0)\n",
    "        col_mid = col_mid + 63\n",
    "    row_mid=row_mid+63\n",
    "    col_mid = 32\n",
    "# repeat these steps for all the 3 x3 mid points\n",
    "\n",
    "cv2.imshow(\"mod_img\",img)\n",
    "cv2.waitKey()\n",
    "#cv2.imwrite('Check_point_image',img)\n",
    "#if (cv2.waitKey(33) == ord('a')):\n",
    "cv2.destroyAllWindows()"
   ]
  }
 ],
 "metadata": {
  "interpreter": {
   "hash": "59243f0156553fba1f931c48c04cc8a8e890ec0d7ce81bc105738f6887d332d2"
  },
  "kernelspec": {
   "display_name": "Python 3.9.12 ('opencv')",
   "language": "python",
   "name": "python3"
  },
  "language_info": {
   "codemirror_mode": {
    "name": "ipython",
    "version": 3
   },
   "file_extension": ".py",
   "mimetype": "text/x-python",
   "name": "python",
   "nbconvert_exporter": "python",
   "pygments_lexer": "ipython3",
   "version": "3.9.12"
  },
  "orig_nbformat": 4
 },
 "nbformat": 4,
 "nbformat_minor": 2
}
