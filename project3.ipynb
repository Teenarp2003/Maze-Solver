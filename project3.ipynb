{
 "cells": [
  {
   "cell_type": "code",
   "execution_count": 1,
   "metadata": {},
   "outputs": [
    {
     "name": "stderr",
     "output_type": "stream",
     "text": [
      "[ WARN:0] global ../modules/videoio/src/cap_gstreamer.cpp (616) isPipelinePlaying OpenCV | GStreamer warning: GStreamer: pipeline have not been created\n",
      "libGL error: MESA-LOADER: failed to open radeonsi: /home/teenarp2003/miniconda3/envs/opencv/lib/python3.9/site-packages/zmq/backend/cython/../../../../.././libstdc++.so.6: version `GLIBCXX_3.4.29' not found (required by /usr/lib/dri/radeonsi_dri.so) (search paths /usr/lib/dri, suffix _dri)\n",
      "libGL error: failed to load driver: radeonsi\n",
      "libGL error: MESA-LOADER: failed to open radeonsi: /home/teenarp2003/miniconda3/envs/opencv/lib/python3.9/site-packages/zmq/backend/cython/../../../../.././libstdc++.so.6: version `GLIBCXX_3.4.29' not found (required by /usr/lib/dri/radeonsi_dri.so) (search paths /usr/lib/dri, suffix _dri)\n",
      "libGL error: failed to load driver: radeonsi\n",
      "libGL error: MESA-LOADER: failed to open swrast: /home/teenarp2003/miniconda3/envs/opencv/lib/python3.9/site-packages/zmq/backend/cython/../../../../.././libstdc++.so.6: version `GLIBCXX_3.4.29' not found (required by /usr/lib/dri/swrast_dri.so) (search paths /usr/lib/dri, suffix _dri)\n",
      "libGL error: failed to load driver: swrast\n",
      "XmbTextListToTextProperty result code -2\n",
      "XmbTextListToTextProperty result code -2\n",
      "XmbTextListToTextProperty result code -2\n",
      "XmbTextListToTextProperty result code -2\n",
      "XmbTextListToTextProperty result code -2\n",
      "XmbTextListToTextProperty result code -2\n",
      "XmbTextListToTextProperty result code -2\n",
      "XmbTextListToTextProperty result code -2\n",
      "XmbTextListToTextProperty result code -2\n",
      "XmbTextListToTextProperty result code -2\n",
      "XmbTextListToTextProperty result code -2\n",
      "XmbTextListToTextProperty result code -2\n",
      "XmbTextListToTextProperty result code -2\n",
      "XmbTextListToTextProperty result code -2\n",
      "XmbTextListToTextProperty result code -2\n"
     ]
    }
   ],
   "source": [
    "import cv2\n",
    "import numpy as np\n",
    " \n",
    "cap = cv2.VideoCapture(0)\n",
    " \n",
    "while(1):\n",
    "    _, frame = cap.read()\n",
    "    # It converts the BGR color space of image to HSV color space\n",
    "    hsv = cv2.cvtColor(frame, cv2.COLOR_BGR2HSV)\n",
    "     \n",
    "    # Threshold of blue in HSV space\n",
    "    lower_blue = np.array([0, 0, 0])\n",
    "    upper_blue = np.array([0, 0, 255])\n",
    " \n",
    "    # preparing the mask to overlay\n",
    "    mask = cv2.inRange(hsv, lower_blue, upper_blue)\n",
    "     \n",
    "    # The black region in the mask has the value of 0,\n",
    "    # so when multiplied with original image removes all non-blue regions\n",
    "    result = cv2.bitwise_and(frame, frame, mask = mask)\n",
    " \n",
    "    cv2.imshow('frame', frame)\n",
    "    cv2.imshow('mask', mask)\n",
    "    cv2.imshow('result', result)\n",
    "     \n",
    "    cv2.waitKey(0)\n",
    " \n",
    "cv2.destroyAllWindows()\n",
    "cap.release()"
   ]
  }
 ],
 "metadata": {
  "interpreter": {
   "hash": "59243f0156553fba1f931c48c04cc8a8e890ec0d7ce81bc105738f6887d332d2"
  },
  "kernelspec": {
   "display_name": "Python 3.9.12 ('opencv')",
   "language": "python",
   "name": "python3"
  },
  "language_info": {
   "codemirror_mode": {
    "name": "ipython",
    "version": 3
   },
   "file_extension": ".py",
   "mimetype": "text/x-python",
   "name": "python",
   "nbconvert_exporter": "python",
   "pygments_lexer": "ipython3",
   "version": "3.9.12"
  },
  "orig_nbformat": 4
 },
 "nbformat": 4,
 "nbformat_minor": 2
}
