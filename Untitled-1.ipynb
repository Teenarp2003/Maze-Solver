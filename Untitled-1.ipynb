{
 "cells": [
  {
   "cell_type": "code",
   "execution_count": 1,
   "metadata": {},
   "outputs": [
    {
     "name": "stderr",
     "output_type": "stream",
     "text": [
      "libGL error: MESA-LOADER: failed to open radeonsi: /home/teenarp2003/miniconda3/envs/opencv/lib/python3.9/site-packages/zmq/backend/cython/../../../../.././libstdc++.so.6: version `GLIBCXX_3.4.29' not found (required by /usr/lib/dri/radeonsi_dri.so) (search paths /usr/lib/dri, suffix _dri)\n",
      "libGL error: failed to load driver: radeonsi\n",
      "libGL error: MESA-LOADER: failed to open radeonsi: /home/teenarp2003/miniconda3/envs/opencv/lib/python3.9/site-packages/zmq/backend/cython/../../../../.././libstdc++.so.6: version `GLIBCXX_3.4.29' not found (required by /usr/lib/dri/radeonsi_dri.so) (search paths /usr/lib/dri, suffix _dri)\n",
      "libGL error: failed to load driver: radeonsi\n",
      "libGL error: MESA-LOADER: failed to open swrast: /home/teenarp2003/miniconda3/envs/opencv/lib/python3.9/site-packages/zmq/backend/cython/../../../../.././libstdc++.so.6: version `GLIBCXX_3.4.29' not found (required by /usr/lib/dri/swrast_dri.so) (search paths /usr/lib/dri, suffix _dri)\n",
      "libGL error: failed to load driver: swrast\n",
      "XmbTextListToTextProperty result code -2\n",
      "XmbTextListToTextProperty result code -2\n",
      "XmbTextListToTextProperty result code -2\n",
      "XmbTextListToTextProperty result code -2\n",
      "XmbTextListToTextProperty result code -2\n",
      "XmbTextListToTextProperty result code -2\n",
      "XmbTextListToTextProperty result code -2\n",
      "XmbTextListToTextProperty result code -2\n",
      "XmbTextListToTextProperty result code -2\n"
     ]
    }
   ],
   "source": [
    "\"\"\"\n",
    "@file hough_lines.py\n",
    "@brief This program demonstrates line finding with the Hough transform\n",
    "\"\"\"\n",
    "import sys\n",
    "import math\n",
    "import cv2 as cv\n",
    "import numpy as np\n",
    "def main(argv):\n",
    "    \n",
    "    default_file = 'sudoku.png'\n",
    "    filename = argv[0] if len(argv) > 0 else default_file\n",
    "    # Loads an image\n",
    "    src = cv.imread('mask.jpg', cv.IMREAD_GRAYSCALE)\n",
    "    # Check if image is loaded fine\n",
    "    if src is None:\n",
    "        print ('Error opening image!')\n",
    "        print ('Usage: hough_lines.py [image_name -- default ' + default_file + '] \\n')\n",
    "        return -1\n",
    "    \n",
    "    \n",
    "    dst = cv.Canny(src, 50, 200, None, 3)\n",
    "    \n",
    "    # Copy edges to the images that will display the results in BGR\n",
    "    cdst = cv.cvtColor(dst, cv.COLOR_GRAY2BGR)\n",
    "    cdstP = np.copy(cdst)\n",
    "    \n",
    "    \n",
    "    lines = cv.HoughLines(dst, 1, np.pi / 180, 150, None, 0, 0)\n",
    "    \n",
    "    if lines is not None:\n",
    "        for i in range(0, len(lines)):\n",
    "            rho = lines[i][0][0]\n",
    "            theta = lines[i][0][1]\n",
    "            a = math.cos(theta)\n",
    "            b = math.sin(theta)\n",
    "            x0 = a * rho\n",
    "            y0 = b * rho\n",
    "            pt1 = (int(x0 + 1000*(-b)), int(y0 + 1000*(a)))\n",
    "            pt2 = (int(x0 - 1000*(-b)), int(y0 - 1000*(a)))\n",
    "            cv.line(cdst, pt1, pt2, (0,0,255), 3, cv.LINE_AA)\n",
    "    \n",
    "    #modified\n",
    "    linesP = cv.HoughLinesP(src, 1, np.pi / 180, 50, None, 50, 10)\n",
    "    \n",
    "    if linesP is not None:\n",
    "        for i in range(0, len(linesP)):\n",
    "            l = linesP[i][0]\n",
    "            cv.line(cdstP, (l[0], l[1]), (l[2], l[3]), (0,0,255), 3, cv.LINE_AA)\n",
    "    \n",
    "    cv.imshow(\"Source\", src)\n",
    "    cv.imwrite(\"Standard Hough_Line_Transform.jpg\", cdst)\n",
    "    cv.imshow(\"bla\", cdst)\n",
    "    cv.imshow(\"line transform\",  cdstP)\n",
    "    cv.imwrite(\"Probabilistic_Line_Transform.jpg\", cdstP)\n",
    "    \n",
    "    cv.waitKey()\n",
    "    return 0\n",
    "    \n",
    "if __name__ == \"__main__\":\n",
    "    main(sys.argv[1:])"
   ]
  }
 ],
 "metadata": {
  "interpreter": {
   "hash": "59243f0156553fba1f931c48c04cc8a8e890ec0d7ce81bc105738f6887d332d2"
  },
  "kernelspec": {
   "display_name": "Python 3.9.12 ('opencv')",
   "language": "python",
   "name": "python3"
  },
  "language_info": {
   "codemirror_mode": {
    "name": "ipython",
    "version": 3
   },
   "file_extension": ".py",
   "mimetype": "text/x-python",
   "name": "python",
   "nbconvert_exporter": "python",
   "pygments_lexer": "ipython3",
   "version": "3.9.12"
  },
  "orig_nbformat": 4
 },
 "nbformat": 4,
 "nbformat_minor": 2
}
