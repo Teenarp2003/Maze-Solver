{
 "cells": [
  {
   "cell_type": "code",
   "execution_count": 2,
   "metadata": {},
   "outputs": [
    {
     "name": "stderr",
     "output_type": "stream",
     "text": [
      "XmbTextListToTextProperty result code -2\n",
      "XmbTextListToTextProperty result code -2\n",
      "XmbTextListToTextProperty result code -2\n",
      "XmbTextListToTextProperty result code -2\n",
      "XmbTextListToTextProperty result code -2\n",
      "XmbTextListToTextProperty result code -2\n"
     ]
    }
   ],
   "source": [
    "from __future__ import print_function\n",
    "from __future__ import division\n",
    "import cv2 as cv\n",
    "import numpy as np\n",
    "src = cv.imread('Probabilistic_Line_Transform.jpg')\n",
    "if src is None:\n",
    "    print('Could not open or find the image:', args.input)\n",
    "    exit(0)\n",
    "bgr_planes = cv.split(src)\n",
    "histSize = 256\n",
    "histRange = (0, 256) # the upper boundary is exclusive\n",
    "accumulate = False\n",
    "b_hist = cv.calcHist(bgr_planes, [0], None, [histSize], histRange, accumulate=accumulate)\n",
    "g_hist = cv.calcHist(bgr_planes, [1], None, [histSize], histRange, accumulate=accumulate)\n",
    "r_hist = cv.calcHist(bgr_planes, [2], None, [histSize], histRange, accumulate=accumulate)\n",
    "hist_w = 512\n",
    "hist_h = 400\n",
    "bin_w = int(round( hist_w/histSize ))\n",
    "histImage = np.zeros((hist_h, hist_w, 3), dtype=np.uint8)\n",
    "cv.normalize(b_hist, b_hist, alpha=0, beta=hist_h, norm_type=cv.NORM_MINMAX)\n",
    "cv.normalize(g_hist, g_hist, alpha=0, beta=hist_h, norm_type=cv.NORM_MINMAX)\n",
    "cv.normalize(r_hist, r_hist, alpha=0, beta=hist_h, norm_type=cv.NORM_MINMAX)\n",
    "for i in range(1, histSize):\n",
    "    cv.line(histImage, ( bin_w*(i-1), hist_h - int(b_hist[i-1]) ),\n",
    "    \n",
    "            ( bin_w*(i), hist_h - int(b_hist[i]) ),\n",
    "            ( 255, 0, 0), thickness=2)\n",
    "    cv.line(histImage, ( bin_w*(i-1), hist_h - int(g_hist[i-1]) ),\n",
    "            ( bin_w*(i), hist_h - int(g_hist[i]) ),\n",
    "            ( 0, 255, 0), thickness=2)\n",
    "    cv.line(histImage, ( bin_w*(i-1), hist_h - int(r_hist[i-1]) ),\n",
    "            ( bin_w*(i), hist_h - int(r_hist[i]) ),\n",
    "            ( 0, 0, 255), thickness=2)\n",
    "cv.imshow('Source image', src)\n",
    "cv.imshow('calcHist Demo', histImage)\n",
    "cv.waitKey()\n",
    "cv.destroyAllWindows()"
   ]
  }
 ],
 "metadata": {
  "interpreter": {
   "hash": "59243f0156553fba1f931c48c04cc8a8e890ec0d7ce81bc105738f6887d332d2"
  },
  "kernelspec": {
   "display_name": "Python 3.9.12 ('opencv')",
   "language": "python",
   "name": "python3"
  },
  "language_info": {
   "codemirror_mode": {
    "name": "ipython",
    "version": 3
   },
   "file_extension": ".py",
   "mimetype": "text/x-python",
   "name": "python",
   "nbconvert_exporter": "python",
   "pygments_lexer": "ipython3",
   "version": "3.9.12"
  },
  "orig_nbformat": 4
 },
 "nbformat": 4,
 "nbformat_minor": 2
}
