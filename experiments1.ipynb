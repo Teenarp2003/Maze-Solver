{
 "cells": [
  {
   "cell_type": "code",
   "execution_count": 2,
   "metadata": {},
   "outputs": [],
   "source": [
    "import cv2\n",
    "import numpy as np"
   ]
  },
  {
   "cell_type": "code",
   "execution_count": 11,
   "metadata": {},
   "outputs": [],
   "source": [
    "image = cv2.imread('image.png')\n",
    "\n",
    "down_width = 300\n",
    "down_height = 400\n",
    "up_width = 30\n",
    "up_height = 40\n",
    "up_points = (up_width,up_height)\n",
    "down_points = (down_width, down_height)\n",
    "resized_down = cv2.resize(image, down_points, interpolation= cv2.INTER_LINEAR)\n",
    "resized_up = cv2.resize(image,up_points,interpolation = cv2.INTER_LINEAR)\n",
    "scaled_f_down = cv2.resize(image, None, fx=1.6,fy=1.6,interpolation= cv2.INTER_LINEAR)\n",
    "scaled_f_up = cv2.resize(image, None, fx=0.6,fy=0.6,interpolation= cv2.INTER_LINEAR)    "
   ]
  },
  {
   "cell_type": "code",
   "execution_count": 13,
   "metadata": {},
   "outputs": [
    {
     "name": "stderr",
     "output_type": "stream",
     "text": [
      "XmbTextListToTextProperty result code -2\n",
      "XmbTextListToTextProperty result code -2\n",
      "XmbTextListToTextProperty result code -2\n",
      "XmbTextListToTextProperty result code -2\n",
      "XmbTextListToTextProperty result code -2\n",
      "XmbTextListToTextProperty result code -2\n",
      "XmbTextListToTextProperty result code -2\n",
      "XmbTextListToTextProperty result code -2\n",
      "XmbTextListToTextProperty result code -2\n",
      "XmbTextListToTextProperty result code -2\n",
      "XmbTextListToTextProperty result code -2\n",
      "XmbTextListToTextProperty result code -2\n",
      "XmbTextListToTextProperty result code -2\n",
      "XmbTextListToTextProperty result code -2\n",
      "XmbTextListToTextProperty result code -2\n"
     ]
    }
   ],
   "source": [
    "\n",
    "cv2.imshow('original image',image)\n",
    "cv2.waitKey()\n",
    "cv2.destroyAllWindows()\n",
    "cv2.imshow('image resized down',resized_down)\n",
    "cv2.waitKey()\n",
    "cv2.destroyAllWindows()\n",
    "cv2.imshow('image resized up ',resized_up)\n",
    "cv2.waitKey()\n",
    "cv2.destroyAllWindows()\n",
    "cv2.imshow('image_down',scaled_f_down)\n",
    "cv2.waitKey()\n",
    "cv2.destroyAllWindows()\n",
    "cv2.imshow('image_up',scaled_f_up)\n",
    "cv2.waitKey()\n",
    "cv2.destroyAllWindows()\n"
   ]
  }
 ],
 "metadata": {
  "interpreter": {
   "hash": "59243f0156553fba1f931c48c04cc8a8e890ec0d7ce81bc105738f6887d332d2"
  },
  "kernelspec": {
   "display_name": "Python 3.9.12 ('opencv')",
   "language": "python",
   "name": "python3"
  },
  "language_info": {
   "codemirror_mode": {
    "name": "ipython",
    "version": 3
   },
   "file_extension": ".py",
   "mimetype": "text/x-python",
   "name": "python",
   "nbconvert_exporter": "python",
   "pygments_lexer": "ipython3",
   "version": "3.9.12"
  },
  "orig_nbformat": 4
 },
 "nbformat": 4,
 "nbformat_minor": 2
}
